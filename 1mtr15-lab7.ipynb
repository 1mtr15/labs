{
 "cells": [
  {
   "cell_type": "markdown",
   "id": "dd84dd56",
   "metadata": {},
   "source": [
    "<div style=\"background-color: #042354;padding-top: 10px;padding-bottom: 10px;padding-left: 10px;\">\n",
    "    <img src=\"https://assets.website-files.com/60b56cdf18d38e15ce088579/60b580ab8d45223dc593968d_pucp%7D.svg\" style=\"float: left\"/><br /><br />\n",
    "    <h1 style=\"color:white\">\n",
    "        1MTR15 Temas de Ingeniería Mecatrónica D\n",
    "    </h1>\n",
    "</div>"
   ]
  },
  {
   "cell_type": "markdown",
   "id": "3ec7cdab",
   "metadata": {},
   "source": [
    "<div style=\"background-color: #DDDDDD;padding-top: 10px;padding-bottom: 10px;padding-left: 10px;\">\n",
    "    <h2>Lab 7: [AWS] API Gateway, Lambda, DynamoDB, IAM, S3</h2>\n",
    "</div>"
   ]
  },
  {
   "cell_type": "markdown",
   "id": "398148d1",
   "metadata": {},
   "source": [
    "__Instructor:__ Jorge Bustamante"
   ]
  },
  {
   "cell_type": "markdown",
   "id": "e5e89678",
   "metadata": {},
   "source": [
    "### I. Link the API POST method and its Lambda function to the DynamoDB table."
   ]
  },
  {
   "cell_type": "markdown",
   "id": "ce600693",
   "metadata": {},
   "source": [
    "<div class=\"alert alert-block alert-info\">\n",
    "    As a reminder, from now on <b>[CODE]</b> stands for your student code (e.g., 20201234).\n",
    "</div>"
   ]
  },
  {
   "cell_type": "markdown",
   "id": "8bfb08fe",
   "metadata": {},
   "source": [
    "1. In __Lambda__, modify the  __`cy-store-data-[CODE]`__ function as bellow:"
   ]
  },
  {
   "cell_type": "code",
   "execution_count": null,
   "id": "2cfed147",
   "metadata": {},
   "outputs": [],
   "source": [
    "const AWS = require('aws-sdk');\n",
    "const dynamodb = new AWS.DynamoDB({region:'sa-east-1',apiVersion:'2012-08-10'});\n",
    "\n",
    "exports.handler = (event, context, callback) => {\n",
    "    const params = {\n",
    "        Item: {\n",
    "            \"Userid\": {\n",
    "                \"S\": \"U\" + Math.random()\n",
    "            },\n",
    "            \"Age\": {\n",
    "                \"N\": \"\" + event.age\n",
    "            },\n",
    "            \"Height\": {\n",
    "                \"N\": \"\" + event.height\n",
    "            },\n",
    "            \"Income\": { \n",
    "                \"N\": \"\" + event.income\n",
    "            }\n",
    "        },\n",
    "        TableName: \"compare-yourself-1mtr15\"\n",
    "    }\n",
    "\n",
    "    dynamoDB.putItem(params, function(err, data) {\n",
    "        if (!err) {\n",
    "            console.log(data);\n",
    "            callback(null, data);\n",
    "        } else {\n",
    "            console.log(err);\n",
    "            callback(err);\n",
    "        }\n",
    "    })\n",
    "}"
   ]
  },
  {
   "cell_type": "markdown",
   "id": "9bede1bb",
   "metadata": {},
   "source": [
    "2. __Deploy__ the function.<br /><br />\n",
    "3. Perform persistence tests from __Lambda__, __API Gateway__ and __Postman__.<br /><br />\n",
    "    3.1 Test from __Lambda__.\n",
    "    - Create a __test event__ with the following JSON format:"
   ]
  },
  {
   "cell_type": "code",
   "execution_count": null,
   "id": "4868210c",
   "metadata": {},
   "outputs": [],
   "source": [
    "{\n",
    "    \"age\": \"20\",\n",
    "    \"height\": \"170\",\n",
    "    \"income\": \"10000\"\n",
    "}"
   ]
  },
  {
   "cell_type": "markdown",
   "id": "0df20305",
   "metadata": {},
   "source": [
    "- Switch to __DynamoDB__ and check the items of the table __`compare-yourself-[CODE]`__ previously created. The values sent from the __`cy-store-data-[CODE]`__ function must be reflected.\n",
    "\n",
    "    3.2. Test from __API Gateway__.<br /><br />\n",
    "    - Go to __POST__ method > __Integration Request__ > Mapping templates > Content-Type: application-json, and check for this template:"
   ]
  },
  {
   "cell_type": "code",
   "execution_count": null,
   "id": "2014c3f2",
   "metadata": {},
   "outputs": [],
   "source": [
    "{\n",
    "    \"age\": $input.json('$.age'),\n",
    "    \"height\": $input.json('$.height'),\n",
    "    \"income\": $input.json('$.income')\n",
    "}"
   ]
  },
  {
   "cell_type": "markdown",
   "id": "e2ee7afb",
   "metadata": {},
   "source": [
    "- Go to `POST method > Integration Response > Mapping templates > Content-Type: application-json`, and check for an empty template.<br /><br/>\n",
    "- Click __Test__ in __Method Execution__ with the following __Request Body__:"
   ]
  },
  {
   "cell_type": "code",
   "execution_count": null,
   "id": "2cee199c",
   "metadata": {},
   "outputs": [],
   "source": [
    "{\n",
    "    \"age\": \"30\",\n",
    "    \"height\": \"180\",\n",
    "    \"income\": \"20000\"\n",
    "}"
   ]
  },
  {
   "cell_type": "markdown",
   "id": "69fdc8fc",
   "metadata": {},
   "source": [
    "- Switch to __DynamoDB__ and check the items of the table __`compare-yourself-[CODE]`__ previously created. The values sent from the __POST__ method in __API Gateway__ must be reflected.\n",
    "\n",
    "    3.3. Test from __Postman__.<br/><br/>\n",
    "    - Deploy API.<br/><br/>\n",
    "    - Open Postman, create a new __collection__ and add a __HTTP POST request__.<br/><br/>\n",
    "    - Copy the __Invoke URL__ from API Gateway and paste it in Postman.<br/><br/>\n",
    "    - In the Body tab, select raw JSON format and type:"
   ]
  },
  {
   "cell_type": "code",
   "execution_count": null,
   "id": "ad5d81d7",
   "metadata": {},
   "outputs": [],
   "source": [
    "{\n",
    "    \"age\": \"40\",\n",
    "    \"height\": \"190\",\n",
    "    \"income\": \"30000\"\n",
    "}"
   ]
  },
  {
   "cell_type": "markdown",
   "id": "1cfa6fc0",
   "metadata": {},
   "source": [
    "- Click __Send__.<br /><br />\n",
    "- Check for `status 200` and switch to __DynamoDB__ and check the items of the table __`compare-yourself-[CODE]`__. The values sent from the __Postman__ must be reflected."
   ]
  },
  {
   "cell_type": "markdown",
   "id": "93896dae",
   "metadata": {},
   "source": [
    "### II. Create a custom policy in AWS IAM"
   ]
  },
  {
   "cell_type": "markdown",
   "id": "e59bcf54",
   "metadata": {},
   "source": [
    "1. Go to AWS `IAM > Access Management > Policies > Create Policy`<br /><br />\n",
    "2. Select __DynamoDB__ service.<br /><br />\n",
    "3. In __Read__ access level, check __GetItem__ and __Scan__.<br /><br />\n",
    "4. Select __Specific__ resource and click __Add ARN__ (Amazon Resource Name) for __index__.<br /><br />\n",
    "5. Click __List ARNs manually__ and paste the ARN for __`compare-yourself-[CODE]`__ table.<br /><br />\n",
    "6. Click Next: Tags.<br /><br />\n",
    "7. Click Next: Review.<br /><br />\n",
    "8. Name the policy as __`dynamodb-scan-cy-role-[CODE]`__.<br /><br />\n",
    "9. Click __Create policy__.<br /><br />\n",
    "10. Attach the __`dynamodb-scan-cy-role-[CODE]`__ policy to the Lambda execution role for the __`cy-get-data-[CODE]`__ function.\n",
    "    - Search for __`dynamodb-scan-cy-role-[CODE]`__.\n",
    "    - Select it and click __Attach__ under the __Actions__ menu.\n",
    "    - Search for the execution role for __`cy-get-data-[CODE]`__ function.\n",
    "    - Select it and click __Attach policy__."
   ]
  },
  {
   "cell_type": "markdown",
   "id": "d443906f",
   "metadata": {},
   "source": [
    "### III. Link the API GET method and its Lambda function to the DynamoDB table."
   ]
  },
  {
   "cell_type": "markdown",
   "id": "ce821872",
   "metadata": {},
   "source": [
    "1. In Lambda, modify the __`cy-get-data-[CODE]`__ function as bellow:"
   ]
  },
  {
   "cell_type": "code",
   "execution_count": null,
   "id": "23a83c83",
   "metadata": {},
   "outputs": [],
   "source": [
    "const AWS = require('aws-sdk');\n",
    "const dynamodb = new AWS.DynamoDB({region:'sa-east-1',apiVersion:'2012-08-10'});\n",
    "\n",
    "exports.handler = (event, context, callback) => {\n",
    "    const type = event.type;\n",
    "    \n",
    "    if (type === 'all') {\n",
    "        const params = {\n",
    "            TableName:'compare-yourself-1mtr15'\n",
    "        }\n",
    "        dynamodb.scan(params, function(err, data) {\n",
    "            if (!err) {\n",
    "                console.log(data);\n",
    "                callback(null, '[OK] ' + data)\n",
    "            } else {\n",
    "                console.log(err);\n",
    "                callback(err);\n",
    "            }\n",
    "        })\n",
    "    } else if (type === 'single') {\n",
    "        callback(null, 'single');\n",
    "    } else {\n",
    "        callback(null, 'other');\n",
    "    }\n",
    "}"
   ]
  },
  {
   "cell_type": "markdown",
   "id": "d21a49c5",
   "metadata": {},
   "source": [
    "5. __Deploy__ the function.<br /><br />\n",
    "6. Create a __test event__ with the following JSON format:"
   ]
  },
  {
   "cell_type": "code",
   "execution_count": null,
   "id": "ad668add",
   "metadata": {},
   "outputs": [],
   "source": [
    "{\n",
    "    \"type\": \"all\"\n",
    "}"
   ]
  },
  {
   "cell_type": "markdown",
   "id": "2e1d8e97",
   "metadata": {},
   "source": [
    "7. Click __Test__ and review the results."
   ]
  },
  {
   "cell_type": "markdown",
   "id": "f87b46b2",
   "metadata": {},
   "source": [
    "<div class=\"alert alert-block alert-info\">\n",
    "In the current state of our code, the items returned are <b>serialized</b> so we cannot see the actual values. To change this behaviour we need to <b>deserialize</b> the data returned from DynamoDB.\n",
    "</div>"
   ]
  },
  {
   "cell_type": "markdown",
   "id": "d8a143ed",
   "metadata": {},
   "source": [
    "8. Modify the __`cy-get-data-[CODE]`__ function as bellow to deserialize the data retrieved from DynamoDB:"
   ]
  },
  {
   "cell_type": "code",
   "execution_count": null,
   "id": "721952e3",
   "metadata": {},
   "outputs": [],
   "source": [
    "const AWS = require('aws-sdk');\n",
    "const dynamodb = new AWS.DynamoDB({region:'sa-east-1',apiVersion:'2012-08-10'});\n",
    "\n",
    "exports.handler = (event, context, callback) => {\n",
    "    const type = event.type;\n",
    "    \n",
    "    if (type === 'all') {\n",
    "        const params = {\n",
    "            TableName:'compare-yourself-1mtr15'\n",
    "        }\n",
    "        dynamodb.scan(params, function(err, data) {\n",
    "            if (!err) {\n",
    "                console.log(data);\n",
    "                \n",
    "                const items = data.Items.map {\n",
    "                    (dataField) => {\n",
    "                        return {Age: + dataField.Age.N,\n",
    "                               Height: + dataField.Height.N,\n",
    "                               Income: + dataField.Income.N}\n",
    "                    }\n",
    "                }\n",
    "                \n",
    "                callback(null, items)\n",
    "            } else {\n",
    "                console.log(err);\n",
    "                callback(err);\n",
    "            }\n",
    "        })\n",
    "    } else if (type === 'single') {\n",
    "        callback(null, 'single');\n",
    "    } else {\n",
    "        callback(null, 'other');\n",
    "    }\n",
    "}"
   ]
  },
  {
   "cell_type": "markdown",
   "id": "a4809799",
   "metadata": {},
   "source": [
    "9. __Deploy__ the function.<br /><br />\n",
    "10. Click __Test__ and review the results.<br /><br />\n",
    "11. Modify the __`cy-get-data-[CODE]`__ to complete the `single` condition using a hard value."
   ]
  },
  {
   "cell_type": "code",
   "execution_count": null,
   "id": "2ea6bff2",
   "metadata": {},
   "outputs": [],
   "source": [
    "const AWS = require('aws-sdk');\n",
    "const dynamodb = new AWS.DynamoDB({region:'sa-east-1',apiVersion:'2012-08-10'});\n",
    "\n",
    "exports.handler = (event, context, callback) => {\n",
    "    const type = event.type;\n",
    "    \n",
    "    if (type === 'all') {\n",
    "        const params = {\n",
    "            TableName:'compare-yourself-1mtr15'\n",
    "        }\n",
    "        dynamodb.scan(params, function(err, data) {\n",
    "            if (!err) {\n",
    "                console.log(data);\n",
    "                \n",
    "                const items = data.Items.map {\n",
    "                    (dataField) => {\n",
    "                        return {Age: + dataField.Age.N,\n",
    "                               Height: + dataField.Height.N,\n",
    "                               Income: + dataField.Income.N}\n",
    "                    }\n",
    "                }\n",
    "                \n",
    "                callback(null, items)\n",
    "            } else {\n",
    "                console.log(err);\n",
    "                callback(err);\n",
    "            }\n",
    "        })\n",
    "    } else if (type === 'single') {\n",
    "        const params = {\n",
    "            Key: {\n",
    "                \"Userid\": {\n",
    "                    S: \"U...\"  // Copy a Userid value from your table \n",
    "                }\n",
    "            },\n",
    "            TableName:'compare-yourself-1mtr15'\n",
    "        }\n",
    "        \n",
    "        dynamodb.getItem(params, function(err, data) {\n",
    "            if (!err) {\n",
    "                console.log(data);\n",
    "                // Return an array\n",
    "                callback(null, [Age: + data.Item.Age.N,\n",
    "                               Height: + data.Item.Height.N,\n",
    "                               Income: + data.Item.Income.N])\n",
    "            } else {\n",
    "                console.log(err);\n",
    "                callback(err);\n",
    "            }\n",
    "        }\n",
    "    } else {\n",
    "        callback(null, 'other');\n",
    "    }\n",
    "}"
   ]
  },
  {
   "cell_type": "markdown",
   "id": "8795dcf2",
   "metadata": {},
   "source": [
    "11. __Deploy__ the function.<br /><br />\n",
    "12. Create a __test event__ with the following JSON format:"
   ]
  },
  {
   "cell_type": "code",
   "execution_count": null,
   "id": "1e2dcda3",
   "metadata": {},
   "outputs": [],
   "source": [
    "{\n",
    "    \"type\": \"single\"\n",
    "}"
   ]
  },
  {
   "cell_type": "markdown",
   "id": "245082dd",
   "metadata": {},
   "source": [
    "12. Click __Test__ and review the results.<br /><br />\n",
    "13. Perform persistence tests from __API Gateway__ and __Postman__:<br /><br />\n",
    "    13.1. __Test__ from __API Gateway__:\n",
    "    - Go to __GET__ method and click __Test__.<br /><br />\n",
    "    - In the `{type}` path, type `all` and click __Test__.<br /><br />\n",
    "    - Review the results.<br /><br />\n",
    "    - Repeat the previous steps with the type `single`.<br /><br />\n",
    "    13.2. __Test__ from __Postman__:\n",
    "    - __Deploy__ API.<br/><br/>\n",
    "    - Open Postman, create a new __HTTP GET request__.<br/><br/>\n",
    "    - Copy the __Invoke URL__ from API Gateway and paste it in Postman.<br/><br/>\n",
    "    - Add `/all` and `/single` for each test."
   ]
  },
  {
   "cell_type": "markdown",
   "id": "689c4816",
   "metadata": {},
   "source": [
    "### IV. Create a custom authorization"
   ]
  },
  {
   "cell_type": "markdown",
   "id": "4ed65398",
   "metadata": {},
   "source": [
    "1. Go to __`Lambda > Create function`__.<br /><br />\n",
    "2. Create a function named __`cy-custom-auth-[CODE]`__ leaving the remaining fields with their default values."
   ]
  },
  {
   "cell_type": "code",
   "execution_count": null,
   "id": "15c5f342",
   "metadata": {},
   "outputs": [],
   "source": [
    "exports.handler = (event, context, callback) => {\n",
    "    const token = event.authorizationToken;\n",
    "    \n",
    "    if (token === 'allow') {\n",
    "        const policy = generatePolicy('allow', event.methodArn);\n",
    "        const principalId = 'abcd1234';\n",
    "        const context = {\n",
    "            simpleAuth: true\n",
    "        }\n",
    "        const response = {\n",
    "            principalId: principalId,\n",
    "            policyDocument: policy,\n",
    "            context: context\n",
    "        }\n",
    "        callback(null, response);\n",
    "    } else if (token === 'deny') {\n",
    "        const policy = generatePolicy('deny', event.methodArn);\n",
    "        const principalId = 'abcd1234';\n",
    "        const context = {\n",
    "            simpleAuth: true\n",
    "        }\n",
    "        const response = {\n",
    "            principalId: principalId,\n",
    "            policyDocument: policy,\n",
    "            context: context\n",
    "        }\n",
    "        callback(null, response);\n",
    "    } else {\n",
    "        callback('Unauthorized');\n",
    "    }\n",
    "}\n",
    "\n",
    "function generatePolicy(effect, resource) {\n",
    "    const policy = {};\n",
    "    policy.Version = '2012-10-17';\n",
    "    policy.Statement = [];\n",
    "    \n",
    "    const stmt = {};\n",
    "    stmt.Action = 'execute-api:Invoke';\n",
    "    stmt.Effect = effect;\n",
    "    stmt.Resource = resource;\n",
    "    \n",
    "    policy.Statement.push(stmt);\n",
    "    return policy;\n",
    "}"
   ]
  },
  {
   "cell_type": "markdown",
   "id": "5762dcca",
   "metadata": {},
   "source": [
    "3. __Deploy__ the function.<br /><br />\n",
    "4. Configure a new __test event__ with the following JSON format:"
   ]
  },
  {
   "cell_type": "code",
   "execution_count": null,
   "id": "686104fc",
   "metadata": {},
   "outputs": [],
   "source": [
    "{\n",
    "    \"authorizationToken\": \"allow\"\n",
    "}"
   ]
  },
  {
   "cell_type": "markdown",
   "id": "12b611b4",
   "metadata": {},
   "source": [
    "5. Review the results.<br /><br />\n",
    "6. Go to __`API Gateway > Authorizers`__ and click __Create New Authorizer__.<br /><br />\n",
    "7. Create a new authorizer with the following attributes:<br />\n",
    "    - Name: __`simple-custom-auth-[CODE]`__\n",
    "    - Type: __Lambda__\n",
    "    - Lambda function: __`cy-custom-auth-[CODE]`__\n",
    "    - Lambda Event Payload: __Token__\n",
    "    - Token source: __`Authorization`__<br /><br />\n",
    "8. Click __Test__.<br /><br />\n",
    "9. Type `allow` as Authorization (header).<br /><br />\n",
    "10. Review the results.<br /><br />\n",
    "11. Go to __`API Gateway > Resources > POST > Method Request`__.<br /><br />\n",
    "12. Select `simple-custom-auth-[CODE]`as Authorization and click Update.<br /><br />\n",
    "13. __Deploy__ API.<br /><br />\n",
    "14. Go to __Postman__, in the __POST__ request select the __Headers__ tab and add the key-value pair `Authorization:allow`<br /><br />\n",
    "15. Review the results.<br /><br />\n",
    "16. As another test, change the key-value pair to `Authorization:deny`<br /><br />\n",
    "17. Review the results."
   ]
  },
  {
   "cell_type": "markdown",
   "id": "161001f5",
   "metadata": {},
   "source": [
    "POST > Integration Request > Mapping Templates"
   ]
  },
  {
   "cell_type": "code",
   "execution_count": null,
   "id": "8bfbe3f7",
   "metadata": {},
   "outputs": [],
   "source": [
    "{\n",
    "    \n",
    "    \"age\": $input.json('$.age'),\n",
    "    \"height\": $input.json('$.height'),\n",
    "    \"income\": $input.json('$.income'),\n",
    "    \"userId\": \"$context.authorizer.principalId\"\n",
    "}"
   ]
  },
  {
   "cell_type": "markdown",
   "id": "9a95d6e0",
   "metadata": {},
   "source": [
    "#### Lambda: cy-store-data-[code]"
   ]
  },
  {
   "cell_type": "code",
   "execution_count": null,
   "id": "ee8afeda",
   "metadata": {},
   "outputs": [],
   "source": [
    "const AWS = require('aws-sdk');\n",
    "const dynamodb = new AWS.DynamoDB({region:'sa-east-1',apiVersion:'2012-08-10'});\n",
    "\n",
    "exports.handler = (event, context, callback) => {\n",
    "    const params = {\n",
    "        Item: {\n",
    "            \"Userid\": {\n",
    "                \"S\": event.userId\n",
    "            },\n",
    "            \"Age\": {\n",
    "                \"N\": \"\" + event.age\n",
    "            },\n",
    "            \"Height\": {\n",
    "                \"N\": \"\" + event.height\n",
    "            },\n",
    "            \"Income\": { \n",
    "                \"N\": \"\" + event.income\n",
    "            }\n",
    "        },\n",
    "        TableName: \"compare-yourself-1mtr15\"\n",
    "    }\n",
    "\n",
    "    dynamoDB.putItem(params, function(err, data) {\n",
    "        if (!err) {\n",
    "            console.log(data);\n",
    "            callback(null, data);\n",
    "        } else {\n",
    "            console.log(err);\n",
    "            callback(err);\n",
    "        }\n",
    "    })\n",
    "}"
   ]
  },
  {
   "cell_type": "markdown",
   "id": "bfa4c0db",
   "metadata": {},
   "source": [
    "### V. Build a front end web app hosted on GitHub"
   ]
  },
  {
   "cell_type": "markdown",
   "id": "ff2040dc",
   "metadata": {},
   "source": [
    "### VI. Hosting a website in S3"
   ]
  },
  {
   "cell_type": "markdown",
   "id": "29a6976e",
   "metadata": {},
   "source": [
    "1. Go to __Amazon S3__.<br /><br />\n",
    "2. Create a bucket with the following attributes:<br />\n",
    "    - Bucket name: __`[CODE].cy`__\n",
    "    - AWS Region: __`US East (Ohio) us-east-2`__\n",
    "    - In the section Block Public Access settings for this bucket, __Uncheck__ _Block all public access_\n",
    "    - __Check__ _I acknowledge that the current settings might result in this bucket and the objects within becoming public._<br /><br />\n",
    "3. Open the bucket __`[CODE].cy`__<br /><br />\n",
    "4. Upload all the files located in the `dist` directory of the Angular project.<br /><br />\n",
    "5. Switch to the __Permissions__ tab.<br /><br />\n",
    "6. In the __Bucket policy__ section, click __Edit__<br /><br />\n",
    "7. Type the following __policy__:\n",
    "    "
   ]
  },
  {
   "cell_type": "code",
   "execution_count": null,
   "id": "99254c0c",
   "metadata": {},
   "outputs": [],
   "source": [
    "{\n",
    "    \"Version\": \"2012-10-17\"\n",
    "    \"Statement\": [\n",
    "        {\n",
    "            \"Sid\": \"PublicRead\",\n",
    "            \"Principal\": \"*\",\n",
    "            \"Effect\": \"Allow\",\n",
    "            \"Action\": [\"s3:GetObject\",\"s3:GetObjectVersion\"],\n",
    "            \"Resource\": [\"arn:aws:s3:.../*\"]  // Type bucket ARN (add /*)\n",
    "        }\n",
    "    ]\n",
    "}"
   ]
  },
  {
   "cell_type": "markdown",
   "id": "efd79923",
   "metadata": {},
   "source": [
    "8. Click __Save changes__.<br /><br />\n",
    "9. Switch to the __Properties__ tab.<br /><br />\n",
    "10. In the __Static website hosting__ section, click __Edit__.<br /><br />\n",
    "11. __Enable__ Static website hosting.<br /><br />\n",
    "12. Type __`index.html`__ as Index document and Error document.<br /><br />\n",
    "13. Click __Save changes__.<br /><br />\n",
    "14. Now the __URL__ of the static website is displayed at the bottom of the page."
   ]
  }
 ],
 "metadata": {
  "kernelspec": {
   "display_name": "JavaScript (Node.js)",
   "language": "javascript",
   "name": "javascript"
  },
  "language_info": {
   "file_extension": ".js",
   "mimetype": "application/javascript",
   "name": "javascript",
   "version": "18.9.1"
  }
 },
 "nbformat": 4,
 "nbformat_minor": 5
}
